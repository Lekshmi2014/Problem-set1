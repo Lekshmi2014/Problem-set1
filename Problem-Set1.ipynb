{
 "cells": [
  {
   "cell_type": "markdown",
   "metadata": {},
   "source": [
    "# Question 1\n",
    "### What data type is each of the following?\n",
    "<b>a. </b> <code>5</code>"
   ]
  },
  {
   "cell_type": "code",
   "execution_count": 1,
   "metadata": {},
   "outputs": [
    {
     "name": "stdout",
     "output_type": "stream",
     "text": [
      "a =  5\n",
      "<class 'int'>\n"
     ]
    }
   ],
   "source": [
    "#Question a\n",
    "#'a' is a variable used to store value and type() give the datatype of variable\n",
    "#here a is an integer\n",
    "a = 5\n",
    "print('a = ', a)\n",
    "print(type(a))"
   ]
  },
  {
   "cell_type": "markdown",
   "metadata": {},
   "source": [
    " ---------------------------------------\n",
    "<b>b. </b> <code>5.0</code>"
   ]
  },
  {
   "cell_type": "code",
   "execution_count": 2,
   "metadata": {},
   "outputs": [
    {
     "name": "stdout",
     "output_type": "stream",
     "text": [
      "a =  5.0\n",
      "<class 'float'>\n"
     ]
    }
   ],
   "source": [
    "#Question b\n",
    "#'a' is a variable used to store value and type() give the datatype of variable\n",
    "#here a will be of float data type \n",
    "a = 5.0\n",
    "print('a = ', a)\n",
    "print(type(a))"
   ]
  },
  {
   "cell_type": "markdown",
   "metadata": {},
   "source": [
    "------------------------------------------\n",
    "<b>c. </b><code>5 > 1</code>"
   ]
  },
  {
   "cell_type": "code",
   "execution_count": 3,
   "metadata": {},
   "outputs": [
    {
     "name": "stdout",
     "output_type": "stream",
     "text": [
      "a =  True\n",
      "<class 'bool'>\n"
     ]
    }
   ],
   "source": [
    "#Question c\n",
    "#'a' is a variable used to store value and type() give the datatype of variable\n",
    "#here a will be boolean, value of a depends on the output of condition operation\n",
    "a = 5 > 1\n",
    "print('a = ',a)\n",
    "print(type(a))"
   ]
  },
  {
   "cell_type": "markdown",
   "metadata": {},
   "source": [
    "-----------------------\n",
    "<b>d. </b><code>'5'</code>"
   ]
  },
  {
   "cell_type": "code",
   "execution_count": 4,
   "metadata": {},
   "outputs": [
    {
     "name": "stdout",
     "output_type": "stream",
     "text": [
      "a = 5\n",
      "<class 'str'>\n"
     ]
    }
   ],
   "source": [
    "#Question d\n",
    "#'a' is a variable used to store value and type() give the datatype of variable\n",
    "#as '5' is in quotes, a will be of string data type\n",
    "a = '5'\n",
    "print('a = ' + a)\n",
    "print(type(a))"
   ]
  },
  {
   "cell_type": "markdown",
   "metadata": {},
   "source": [
    "-----------------------\n",
    "<b>e. </b><code>5 * 2</code>"
   ]
  },
  {
   "cell_type": "code",
   "execution_count": 8,
   "metadata": {},
   "outputs": [
    {
     "name": "stdout",
     "output_type": "stream",
     "text": [
      "a =  10\n",
      "<class 'int'>\n"
     ]
    }
   ],
   "source": [
    "#Question e\n",
    "#'a' is a variable used to store value and type() give the datatype of variable\n",
    "#a will be an integer as the output of 5 * 2 is integer\n",
    "a = 5 * 2\n",
    "print('a = ',(a))\n",
    "print(type(a))"
   ]
  },
  {
   "cell_type": "markdown",
   "metadata": {},
   "source": [
    "--------------------------\n",
    "<b>f. </b><code>'5' * 2</code>"
   ]
  },
  {
   "cell_type": "code",
   "execution_count": 9,
   "metadata": {},
   "outputs": [
    {
     "name": "stdout",
     "output_type": "stream",
     "text": [
      "a = 55\n",
      "<class 'str'>\n"
     ]
    }
   ],
   "source": [
    "#Question f\n",
    "#'a' is a variable used to store value and type() give the datatype of variable\n",
    "#a will be string as '5' * 2 gives a string operation\n",
    "a = '5' * 2\n",
    "print('a = ' + a)\n",
    "print(type(a))"
   ]
  },
  {
   "cell_type": "markdown",
   "metadata": {},
   "source": [
    "------------\n",
    "<b>g. </b><code>'5' + '2'</code>"
   ]
  },
  {
   "cell_type": "code",
   "execution_count": 10,
   "metadata": {},
   "outputs": [
    {
     "name": "stdout",
     "output_type": "stream",
     "text": [
      "a = 52\n",
      "<class 'str'>\n"
     ]
    }
   ],
   "source": [
    "#Question g\n",
    "#'a' is a variable used to store value and type() give the datatype of variable\n",
    "#a will be string '5' + '2' is a string operation\n",
    "a = '5' + '2'\n",
    "print('a = ' + a)\n",
    "print(type(a))"
   ]
  },
  {
   "cell_type": "markdown",
   "metadata": {},
   "source": [
    "----------------\n",
    "<b>h. </b><code>5 / 2</code>"
   ]
  },
  {
   "cell_type": "code",
   "execution_count": 59,
   "metadata": {},
   "outputs": [
    {
     "name": "stdout",
     "output_type": "stream",
     "text": [
      "a =  2.5\n",
      "<class 'float'>\n"
     ]
    }
   ],
   "source": [
    "#Question h\n",
    "#'a' is a variable used to store value and type() give the datatype of variable\n",
    "#a will be of float type as output of division operation is always taken as float\n",
    "a = 5 / 2\n",
    "print('a = ',a)\n",
    "print(type(a))"
   ]
  },
  {
   "cell_type": "markdown",
   "metadata": {},
   "source": [
    "-------------\n",
    "<b>i. </b><code>5 // 2</code>"
   ]
  },
  {
   "cell_type": "code",
   "execution_count": 12,
   "metadata": {},
   "outputs": [
    {
     "name": "stdout",
     "output_type": "stream",
     "text": [
      "a =  2\n",
      "<class 'int'>\n"
     ]
    }
   ],
   "source": [
    "#Question i\n",
    "#'a' is a variable used to store value and type() give the datatype of variable\n",
    "#a will be integer as 5//2 is an integer division operation and ignore decimal points \n",
    "a = 5 // 2\n",
    "print('a = ',a)\n",
    "print(type(a))"
   ]
  },
  {
   "cell_type": "markdown",
   "metadata": {},
   "source": [
    "---------------\n",
    "<b>j. </b><code>[5, 2, 1]</code>"
   ]
  },
  {
   "cell_type": "code",
   "execution_count": 13,
   "metadata": {},
   "outputs": [
    {
     "name": "stdout",
     "output_type": "stream",
     "text": [
      "a =  [5, 2, 1]\n",
      "<class 'list'>\n"
     ]
    }
   ],
   "source": [
    "#Question j\n",
    "#'a' is a variable used to store value and type() give the datatype of variable\n",
    "#here a is list as the numbers are grouped by [] symbol, if the symbol is {} then a is called as dictionary\n",
    "a = [5, 2, 1]\n",
    "print('a = ',a)\n",
    "print(type(a))"
   ]
  },
  {
   "cell_type": "markdown",
   "metadata": {},
   "source": [
    "------------------\n",
    "<b>k.</b><code>5 in [1, 4, 6]</code>"
   ]
  },
  {
   "cell_type": "code",
   "execution_count": 14,
   "metadata": {},
   "outputs": [
    {
     "name": "stdout",
     "output_type": "stream",
     "text": [
      "a =  False\n",
      "<class 'bool'>\n"
     ]
    }
   ],
   "source": [
    "#Question k\n",
    "#'a' is a variable used to store value and type() give the datatype of variable\n",
    "#a will be boolean as it is a condition operation checking if 5 is a subset of given list of numbers\n",
    "a = 5 in [1, 4, 6]\n",
    "print('a = ',a)\n",
    "print(type(a))"
   ]
  },
  {
   "cell_type": "markdown",
   "metadata": {},
   "source": [
    "--------------\n",
    "<b>l.</b><code>math.pi</code>"
   ]
  },
  {
   "cell_type": "code",
   "execution_count": 15,
   "metadata": {},
   "outputs": [
    {
     "name": "stdout",
     "output_type": "stream",
     "text": [
      "a = 3.141592653589793\n",
      "<class 'float'>\n"
     ]
    }
   ],
   "source": [
    "#Question l\n",
    "#math is a module in python, so to carry out this task math module must be imported\n",
    "#'a' is a variable used to store value and type() give the datatype of variable\n",
    "#a will be float value as pi has decimal points \n",
    "import math\n",
    "a = math.pi\n",
    "print('a = ' + str(a))\n",
    "print(type(a))"
   ]
  },
  {
   "cell_type": "markdown",
   "metadata": {},
   "source": [
    "# Question 2\n",
    "### Write (and evaluate) Python expressions that answer these questions:\n",
    "#### a. How many letters are there in 'Supercalifragilisticexpialidocious'?"
   ]
  },
  {
   "cell_type": "code",
   "execution_count": 16,
   "metadata": {},
   "outputs": [
    {
     "name": "stdout",
     "output_type": "stream",
     "text": [
      "Number of letters in \"Supercalifragilisticexpialidocious\" =  34\n"
     ]
    }
   ],
   "source": [
    "#len()  function finds the length of a string\n",
    "count = len('Supercalifragilisticexpialidocious')\n",
    "print('Number of letters in \"Supercalifragilisticexpialidocious\" = ',count)"
   ]
  },
  {
   "cell_type": "markdown",
   "metadata": {},
   "source": [
    "#### b. Does 'Supercalifragilisticexpialidocious' contain 'ice' as a substring? "
   ]
  },
  {
   "cell_type": "code",
   "execution_count": 17,
   "metadata": {},
   "outputs": [
    {
     "name": "stdout",
     "output_type": "stream",
     "text": [
      "'ice' is a substring of 'Supercalifragilisticexpialidocious'\n"
     ]
    }
   ],
   "source": [
    "#here 'in' keyword is used to check if ice is a substring of Supercalifragilisticexpialidocious\n",
    "#'a' hold a boolean value i.e. is either True or False\n",
    "a = 'ice' in 'Supercalifragilisticexpialidocious'\n",
    "if a == True:\n",
    "    print(\"'ice' is a substring of 'Supercalifragilisticexpialidocious'\")\n",
    "else:\n",
    "    print(\"'ice' is not a substring of 'Supercalifragilisticexpialidocious'\")"
   ]
  },
  {
   "cell_type": "markdown",
   "metadata": {},
   "source": [
    "#### c. Which of the following words is the longest: Supercalifragilisticexpialidocious, Honorificabilitudinitatibus, or Bababadalgharaghtakamminarronnkonn?"
   ]
  },
  {
   "cell_type": "code",
   "execution_count": 60,
   "metadata": {},
   "outputs": [
    {
     "name": "stdout",
     "output_type": "stream",
     "text": [
      "longest string is:  ['Supercalifragilisticexpialidocious', 'Bababadalgharaghtakamminarronnkonn']\n"
     ]
    }
   ],
   "source": [
    "#here the length of all the give string are calculated using len() \n",
    "#lst stores the given set of words\n",
    "\n",
    "\n",
    "#In the given set of words length of both 'Supercalifragilisticexpialidocious' and Bababadalgharaghtakamminarronnkonn is same\n",
    "lst = ['Supercalifragilisticexpialidocious','Honorificabilitudinitatibus','Bababadalgharaghtakamminarronnkonn'] \n",
    "\n",
    "#result is an empty list to store the longest word\n",
    "result = []\n",
    "\n",
    "#maxLen is set to '-1' because index value of a string start from '0',\n",
    "maxLen = -1\n",
    "\n",
    "#loop to find the longest word\n",
    "for x in lst: \n",
    "    \n",
    "    \n",
    "    if len(x) >= maxLen: \n",
    "        \n",
    "        #maxLen is length of longest word\n",
    "        maxLen = len(x) \n",
    "        result.append(x) \n",
    "\n",
    "print(\"longest string is: \",result) "
   ]
  },
  {
   "cell_type": "markdown",
   "metadata": {},
   "source": [
    "#### d. Which composer comes first in the dictionary: 'Berlioz', 'Borodin', 'Brian', 'Bartok', 'Bellini', 'Buxtehude', 'Bernstein'. Which one comes last?"
   ]
  },
  {
   "cell_type": "code",
   "execution_count": 19,
   "metadata": {},
   "outputs": [
    {
     "name": "stdout",
     "output_type": "stream",
     "text": [
      "First word to appear in dictionary among the given words is Bartok\n",
      "Last word to appear in dictionary among the given words is Buxtehude\n"
     ]
    }
   ],
   "source": [
    "#min() and max() functions can be used to find the first and last words that appears in dictionary from the given words\n",
    "#lst is a dictionary which stores the given words\n",
    "lst = {'Berlioz', 'Borodin', 'Brian', 'Bartok', 'Bellini', 'Buxtehude', 'Bernstein'}\n",
    "print('First word to appear in dictionary among the given words is ' + min(lst))\n",
    "print('Last word to appear in dictionary among the given words is ' + max(lst))"
   ]
  },
  {
   "cell_type": "markdown",
   "metadata": {},
   "source": [
    "# Question 3\n",
    "#### a. Write a function inside(x,y,x1,y1,x2,y2) that returns True or False depending on whether the point (x,y) lies in the rectangle with lower left corner (x1,y1) and upper right corner (x2,y2).\n",
    "<blockquote>>>> inside(1,1,0,0,2,3)</blockquote>\n",
    "<blockquote>True</blockquote>\n",
    "<blockquote>>>>inside(-1,-1,0,0,2,3)</blockquote>\n",
    "<blockquote>False</blockquote>"
   ]
  },
  {
   "cell_type": "code",
   "execution_count": 20,
   "metadata": {},
   "outputs": [],
   "source": [
    "#def is to define a function that finds out if a given point is inside a rectangle\n",
    "def inside(x,y,x1,y1,x2,y2):\n",
    "    \n",
    "    #(x,y) is the given point, so we should find if (x,y) lies inside the rectangle\n",
    "    #(x1,y1) is the lower left point which means, we can say a point lies inside a rectangle only if x>x1 and y>y1\n",
    "    #(x2,y2) is the upper right point which means, we can say a point lies inside rectangle only if x<x2 and y<y2\n",
    "    if (x>x1) and (x<x2) and (y>y1) and (y<y2):\n",
    "        return True\n",
    "    else:\n",
    "        return False"
   ]
  },
  {
   "cell_type": "code",
   "execution_count": 25,
   "metadata": {},
   "outputs": [
    {
     "data": {
      "text/plain": [
       "True"
      ]
     },
     "execution_count": 25,
     "metadata": {},
     "output_type": "execute_result"
    }
   ],
   "source": [
    ">>> inside(1,1,0,0,2,3)"
   ]
  },
  {
   "cell_type": "code",
   "execution_count": 26,
   "metadata": {},
   "outputs": [
    {
     "data": {
      "text/plain": [
       "False"
      ]
     },
     "execution_count": 26,
     "metadata": {},
     "output_type": "execute_result"
    }
   ],
   "source": [
    ">>> inside(-1,-1,0,0,2,3)"
   ]
  },
  {
   "cell_type": "markdown",
   "metadata": {},
   "source": [
    "#### b. Use function inside() from part a. to write an expression that tests whether the point (1,1) lies in both of the following rectangles: one with lower left corner (0.3, 0.5) and upper right corner (1.1, 0.7) and the other with lower left corner (0.5, 0.2) and upper right corner (1.1, 2). "
   ]
  },
  {
   "cell_type": "code",
   "execution_count": 27,
   "metadata": {},
   "outputs": [
    {
     "name": "stdout",
     "output_type": "stream",
     "text": [
      "False\n"
     ]
    }
   ],
   "source": [
    ">>> #here the values for(x,y,x1,y1,x2,y2) are given as follows\n",
    ">>> #(x,y)=(1,1)\n",
    ">>> #(x1,y1)=(0.3,0.5)\n",
    ">>> #(x2,y2)=(1.1,0.7)\n",
    ">>> print(inside(1,1,0.3,0.5,1.1,0.7))"
   ]
  },
  {
   "cell_type": "code",
   "execution_count": 28,
   "metadata": {},
   "outputs": [
    {
     "name": "stdout",
     "output_type": "stream",
     "text": [
      "True\n"
     ]
    }
   ],
   "source": [
    ">>> #here the values for(x,y,x1,y1,x2,y2) are given as follows\n",
    ">>> #(x,y)=(1,1)\n",
    ">>> #(x1,y1)=(0.5,0.2)\n",
    ">>> #(x2,y2)=(1.1,2)\n",
    ">>> print(inside(1,1,0.5,0.2,1.1,2))"
   ]
  },
  {
   "cell_type": "markdown",
   "metadata": {},
   "source": [
    "# Question 4\n",
    "####  You can turn a word into pig-Latin using the following two rules (simplified):\n",
    "#### • If the word starts with a consonant, move that letter to the end and append 'ay'. For example, 'happy' becomes 'appyhay' and 'pencil' becomes 'encilpay'.\n",
    "#### • If the word starts with a vowel, simply append 'way' to the end of the word. For example, 'enter' becomes 'enterway' and 'other' becomes 'otherway' . For our purposes, there are 5 vowels: a, e, i, o, u (so we count y as a consonant). Write a function pig() that takes a word (i.e., a string) as input and returns its pigLatin form. Your function should still work if the input word contains upper casecharacters. Your output should always be lower case however.\n",
    "<blockquote>>>> pig('happy')</blockquote>\n",
    "<blockquote>'appyhay'</blockquote>\n",
    "<blockquote>>>> pig('Enter')</blockquote>\n",
    "<blockquote>'enterway'</blockquote>"
   ]
  },
  {
   "cell_type": "code",
   "execution_count": 29,
   "metadata": {},
   "outputs": [],
   "source": [
    "#funtion to convert given word to pig-Latin\n",
    "def pig(word):\n",
    "    #comparison to find if the first letter of the word is vowel or consonent\n",
    "    if word[0] in ['a','e','i','o','u']:\n",
    "        #concatinating strings\n",
    "        value = word+'way'\n",
    "        return value\n",
    "    else:\n",
    "        val1 = word[0]\n",
    "        val2 = word[1:]\n",
    "        \n",
    "        #concatinating strings\n",
    "        value = val2+val1+'ay'\n",
    "        return value"
   ]
  },
  {
   "cell_type": "code",
   "execution_count": 33,
   "metadata": {},
   "outputs": [
    {
     "name": "stdout",
     "output_type": "stream",
     "text": [
      "appyhay\n"
     ]
    }
   ],
   "source": [
    ">>> print(pig('happy'))"
   ]
  },
  {
   "cell_type": "code",
   "execution_count": 31,
   "metadata": {},
   "outputs": [
    {
     "name": "stdout",
     "output_type": "stream",
     "text": [
      "enterway\n"
     ]
    }
   ],
   "source": [
    ">>> print(pig('enter'))"
   ]
  },
  {
   "cell_type": "markdown",
   "metadata": {},
   "source": [
    "# Question 5\n",
    "#### File bloodtype1.txt records blood-types of patients (A, B, AB, O or OO) at a clinic. Write a function bldcount() that reads the file with name name and reports (i.e., prints) how many patients there are in each bloodtype.\n",
    "<blockquote>>>> bldcount('bloodtype.txt')</blockquote>\n",
    "<blockquote>There are 10 patients of blood type A.</blockquote>\n",
    "<blockquote>There is one patient of blood type B.</blockquote>\n",
    "<blockquote>There are 10 patients of blood type AB.</blockquote>\n",
    "<blockquote>There are 12 patients of blood type O.</blockquote>\n",
    "<blockquote>There are no patients of blood type OO.</blockquote>"
   ]
  },
  {
   "cell_type": "code",
   "execution_count": 61,
   "metadata": {},
   "outputs": [],
   "source": [
    "#bldcount() is a function to find the count of patients in each blood group \n",
    "def bldcount(filename):\n",
    "    file = open(filename, 'r') \n",
    "    \n",
    "    #test store the values read from the file \n",
    "    test = file.read()\n",
    "    \n",
    "    #word store each word from the file  \n",
    "    word = test.split()\n",
    "    \n",
    "    #count stores the number of words on 'word'\n",
    "    count = len(word)\n",
    "    \n",
    "    #(countAB,countB,countA,countO,countOO) these are flags to count the occurance of each blood group\n",
    "    countAB,countB,countA,countO,countOO = 0, 0, 0, 0, 0\n",
    "    \n",
    "    #loop to find the number of patients from each group\n",
    "    for x in range(0,count):\n",
    "        if word[x] == 'AB':\n",
    "            countAB = countAB + 1\n",
    "        elif word[x] == 'A':\n",
    "            countA = countA + 1\n",
    "        elif word[x] == 'B':\n",
    "            countB = countB + 1\n",
    "        elif word[x] == 'O':\n",
    "            countO = countO + 1\n",
    "        else:\n",
    "            countOO = countOO + 1\n",
    "    print('There are',countA,'patients of blood type A.')\n",
    "    print('There are',countB,'patients of blood type B.')\n",
    "    print('There are',countAB,'patients of blood type AB')\n",
    "    print('There are',countO,'patients of blood type O.')\n",
    "    if countOO == 0:\n",
    "        print('There is no patients of other blood type')\n",
    "    else:\n",
    "        print('There are',countOO,'patients of other blood type.') "
   ]
  },
  {
   "cell_type": "code",
   "execution_count": 62,
   "metadata": {},
   "outputs": [
    {
     "name": "stdout",
     "output_type": "stream",
     "text": [
      "There are 15 patients of blood type A.\n",
      "There are 1 patients of blood type B.\n",
      "There are 13 patients of blood type AB\n",
      "There are 15 patients of blood type O.\n",
      "There is no patients of other blood type\n"
     ]
    }
   ],
   "source": [
    ">>> #bldcount() is a function to find the count of patients in each blood group \n",
    ">>> #bldcount gives filename as it's parameter\n",
    ">>> bldcount('bloodtype.txt')"
   ]
  },
  {
   "cell_type": "markdown",
   "metadata": {},
   "source": [
    "# Question 6\n",
    "#### Write a function curconv() that takes as input:\n",
    "####      1. a currency represented using a string (e.g., 'JPY' for the Japanese Yen or 'EUR' for the Euro)\n",
    "####      2. an amount and then converts and returns the amount in US dollars.\n",
    "<blockquote>>>> curconv('EUR', 100)</blockquote>\n",
    "<blockquote>122.96544</blockquote>\n",
    "<blockquote>>>> curconv('JPY', 100)</blockquote>\n",
    "<blockquote>1.241401</blockquote>\n",
    "\n",
    "#### The currency rates you will need are stored in file currencies.txt"
   ]
  },
  {
   "cell_type": "code",
   "execution_count": 38,
   "metadata": {},
   "outputs": [],
   "source": [
    "#curconv() function converts currency in currencies.txt to USD\n",
    "def curconv(currency,amount):\n",
    "    file = open('currencies.txt', 'r')\n",
    "    \n",
    "    #test stores the values read from the file\n",
    "    test = file.read()\n",
    "    \n",
    "    #demo store each word from the file\n",
    "    demo = test.split()\n",
    "    \n",
    "    #condition to check if given curreny is in 'demo' that hold each words from the file\n",
    "    if currency in demo:\n",
    "        \n",
    "        #CurIndex holds the index position of given currency \n",
    "        CurIndex = demo.index(currency)\n",
    "        \n",
    "        #Rate hold the rate of the corresponding currency\n",
    "        Rate = demo[CurIndex + 1]\n",
    "        USDCurRate = float(Rate) * amount\n",
    "        print(USDCurRate)\n",
    "        \n",
    "    else:\n",
    "        print('Oop something went wrong!!!')"
   ]
  },
  {
   "cell_type": "code",
   "execution_count": 39,
   "metadata": {},
   "outputs": [
    {
     "name": "stdout",
     "output_type": "stream",
     "text": [
      "122.96544\n"
     ]
    }
   ],
   "source": [
    ">>> #curconv() function converts currency in currencies.txt to USD\n",
    ">>> #curconv pass currency and amount as parameter\n",
    ">>> curconv('EUR', 100)"
   ]
  },
  {
   "cell_type": "code",
   "execution_count": 40,
   "metadata": {},
   "outputs": [
    {
     "name": "stdout",
     "output_type": "stream",
     "text": [
      "1.241401\n"
     ]
    }
   ],
   "source": [
    ">>> #curconv() function converts currency in currencies.txt to USD\n",
    ">>> #curconv pass currency and amount as parameter\n",
    ">>> curconv('JPY', 100)"
   ]
  },
  {
   "cell_type": "markdown",
   "metadata": {},
   "source": [
    "# Question 7\n",
    "#### Each of the following will cause an exception (an error). Identify what type of exception each will cause.\n",
    "#### 1.Trying to add incompatible variables, as in adding 6 + ‘a’"
   ]
  },
  {
   "cell_type": "code",
   "execution_count": 41,
   "metadata": {},
   "outputs": [
    {
     "ename": "TypeError",
     "evalue": "unsupported operand type(s) for +: 'int' and 'str'",
     "output_type": "error",
     "traceback": [
      "\u001b[1;31m---------------------------------------------------------------------------\u001b[0m",
      "\u001b[1;31mTypeError\u001b[0m                                 Traceback (most recent call last)",
      "\u001b[1;32m<ipython-input-41-6ecb482cf03f>\u001b[0m in \u001b[0;36m<module>\u001b[1;34m\u001b[0m\n\u001b[1;32m----> 1\u001b[1;33m \u001b[1;36m6\u001b[0m \u001b[1;33m+\u001b[0m \u001b[1;34m'a'\u001b[0m \u001b[1;31m#arithmetic operations cannot be carried out between a string and integer value\u001b[0m\u001b[1;33m\u001b[0m\u001b[1;33m\u001b[0m\u001b[0m\n\u001b[0m",
      "\u001b[1;31mTypeError\u001b[0m: unsupported operand type(s) for +: 'int' and 'str'"
     ]
    }
   ],
   "source": [
    "6 + 'a' #arithmetic operations cannot be carried out between a string and integer value"
   ]
  },
  {
   "cell_type": "markdown",
   "metadata": {},
   "source": [
    "#### 2.Referring to the 12th item of a list that has only 10 items\n"
   ]
  },
  {
   "cell_type": "code",
   "execution_count": 42,
   "metadata": {},
   "outputs": [
    {
     "ename": "IndexError",
     "evalue": "string index out of range",
     "output_type": "error",
     "traceback": [
      "\u001b[1;31m---------------------------------------------------------------------------\u001b[0m",
      "\u001b[1;31mIndexError\u001b[0m                                Traceback (most recent call last)",
      "\u001b[1;32m<ipython-input-42-fe414cd2cc32>\u001b[0m in \u001b[0;36m<module>\u001b[1;34m\u001b[0m\n\u001b[0;32m      1\u001b[0m \u001b[1;31m#for a string the index is fixed so any index value greater than the set index will lead to an exception\u001b[0m\u001b[1;33m\u001b[0m\u001b[1;33m\u001b[0m\u001b[1;33m\u001b[0m\u001b[0m\n\u001b[0;32m      2\u001b[0m \u001b[0mvalue\u001b[0m \u001b[1;33m=\u001b[0m \u001b[1;34m'happy'\u001b[0m\u001b[1;33m\u001b[0m\u001b[1;33m\u001b[0m\u001b[0m\n\u001b[1;32m----> 3\u001b[1;33m \u001b[0mprint\u001b[0m\u001b[1;33m(\u001b[0m\u001b[0mvalue\u001b[0m\u001b[1;33m[\u001b[0m\u001b[1;36m12\u001b[0m\u001b[1;33m]\u001b[0m\u001b[1;33m)\u001b[0m\u001b[1;33m\u001b[0m\u001b[1;33m\u001b[0m\u001b[0m\n\u001b[0m",
      "\u001b[1;31mIndexError\u001b[0m: string index out of range"
     ]
    }
   ],
   "source": [
    "#for a string the index is fixed so any index value greater than the set index will lead to an exception\n",
    "value = 'happy'\n",
    "print(value[12])  "
   ]
  },
  {
   "cell_type": "markdown",
   "metadata": {},
   "source": [
    "#### 3. Using a value that is out of range for a function’s input, such as calling math.sqrt(-1.0)"
   ]
  },
  {
   "cell_type": "code",
   "execution_count": 43,
   "metadata": {},
   "outputs": [
    {
     "ename": "ValueError",
     "evalue": "math domain error",
     "output_type": "error",
     "traceback": [
      "\u001b[1;31m---------------------------------------------------------------------------\u001b[0m",
      "\u001b[1;31mValueError\u001b[0m                                Traceback (most recent call last)",
      "\u001b[1;32m<ipython-input-43-6e51b3381b4a>\u001b[0m in \u001b[0;36m<module>\u001b[1;34m\u001b[0m\n\u001b[0;32m      1\u001b[0m \u001b[1;31m#log(0.0) make no sence in real life as this give negative infinity value\u001b[0m\u001b[1;33m\u001b[0m\u001b[1;33m\u001b[0m\u001b[1;33m\u001b[0m\u001b[0m\n\u001b[0;32m      2\u001b[0m \u001b[1;32mimport\u001b[0m \u001b[0mmath\u001b[0m\u001b[1;33m\u001b[0m\u001b[1;33m\u001b[0m\u001b[0m\n\u001b[1;32m----> 3\u001b[1;33m \u001b[0ms\u001b[0m \u001b[1;33m=\u001b[0m \u001b[0mmath\u001b[0m\u001b[1;33m.\u001b[0m\u001b[0mlog\u001b[0m\u001b[1;33m(\u001b[0m\u001b[1;36m0.0\u001b[0m\u001b[1;33m)\u001b[0m\u001b[1;33m\u001b[0m\u001b[1;33m\u001b[0m\u001b[0m\n\u001b[0m\u001b[0;32m      4\u001b[0m \u001b[0mprint\u001b[0m\u001b[1;33m(\u001b[0m\u001b[0ms\u001b[0m\u001b[1;33m)\u001b[0m\u001b[1;33m\u001b[0m\u001b[1;33m\u001b[0m\u001b[0m\n",
      "\u001b[1;31mValueError\u001b[0m: math domain error"
     ]
    }
   ],
   "source": [
    "#log(0.0) make no sence in real life as this give negative infinity value \n",
    "import math\n",
    "s = math.log(0.0)\n",
    "print(s)"
   ]
  },
  {
   "cell_type": "code",
   "execution_count": 45,
   "metadata": {},
   "outputs": [
    {
     "ename": "ValueError",
     "evalue": "math domain error",
     "output_type": "error",
     "traceback": [
      "\u001b[1;31m---------------------------------------------------------------------------\u001b[0m",
      "\u001b[1;31mValueError\u001b[0m                                Traceback (most recent call last)",
      "\u001b[1;32m<ipython-input-45-0970e5ee4a83>\u001b[0m in \u001b[0;36m<module>\u001b[1;34m\u001b[0m\n\u001b[0;32m      1\u001b[0m \u001b[1;31m#another example would be math.sqrt(-1.0)\u001b[0m\u001b[1;33m\u001b[0m\u001b[1;33m\u001b[0m\u001b[1;33m\u001b[0m\u001b[0m\n\u001b[0;32m      2\u001b[0m \u001b[1;32mimport\u001b[0m \u001b[0mmath\u001b[0m\u001b[1;33m\u001b[0m\u001b[1;33m\u001b[0m\u001b[0m\n\u001b[1;32m----> 3\u001b[1;33m \u001b[0ms\u001b[0m \u001b[1;33m=\u001b[0m \u001b[0mmath\u001b[0m\u001b[1;33m.\u001b[0m\u001b[0msqrt\u001b[0m\u001b[1;33m(\u001b[0m\u001b[1;33m-\u001b[0m\u001b[1;36m1\u001b[0m\u001b[1;33m)\u001b[0m\u001b[1;33m\u001b[0m\u001b[1;33m\u001b[0m\u001b[0m\n\u001b[0m\u001b[0;32m      4\u001b[0m \u001b[0mprint\u001b[0m\u001b[1;33m(\u001b[0m\u001b[0ms\u001b[0m\u001b[1;33m)\u001b[0m\u001b[1;33m\u001b[0m\u001b[1;33m\u001b[0m\u001b[0m\n",
      "\u001b[1;31mValueError\u001b[0m: math domain error"
     ]
    }
   ],
   "source": [
    "#another example would be math.sqrt(-1.0) where negative root of any number gives infinte \n",
    "import math\n",
    "s = math.sqrt(-1)\n",
    "print(s)"
   ]
  },
  {
   "cell_type": "markdown",
   "metadata": {},
   "source": [
    "#### 4.Using an undeclared variable, such as print(x) when x has not been defined "
   ]
  },
  {
   "cell_type": "code",
   "execution_count": 46,
   "metadata": {},
   "outputs": [
    {
     "ename": "NameError",
     "evalue": "name 'm' is not defined",
     "output_type": "error",
     "traceback": [
      "\u001b[1;31m---------------------------------------------------------------------------\u001b[0m",
      "\u001b[1;31mNameError\u001b[0m                                 Traceback (most recent call last)",
      "\u001b[1;32m<ipython-input-46-fb70eabd2269>\u001b[0m in \u001b[0;36m<module>\u001b[1;34m\u001b[0m\n\u001b[0;32m      1\u001b[0m \u001b[1;31m#all variable must be declared before using it, here 'm' is not declared so the code will run into an error\u001b[0m\u001b[1;33m\u001b[0m\u001b[1;33m\u001b[0m\u001b[1;33m\u001b[0m\u001b[0m\n\u001b[1;32m----> 2\u001b[1;33m \u001b[0mprint\u001b[0m\u001b[1;33m(\u001b[0m\u001b[0mm\u001b[0m\u001b[1;33m)\u001b[0m\u001b[1;33m\u001b[0m\u001b[1;33m\u001b[0m\u001b[0m\n\u001b[0m",
      "\u001b[1;31mNameError\u001b[0m: name 'm' is not defined"
     ]
    }
   ],
   "source": [
    "#all variable must be declared before using it, here 'm' is not declared so the code will run into an error \n",
    "print(m)"
   ]
  },
  {
   "cell_type": "markdown",
   "metadata": {},
   "source": [
    "#### 5. Trying to open a file that does not exist, such as mistyping the file name or looking in the wrong directory. "
   ]
  },
  {
   "cell_type": "code",
   "execution_count": 47,
   "metadata": {},
   "outputs": [
    {
     "ename": "FileNotFoundError",
     "evalue": "[Errno 2] No such file or directory: 'file.txt'",
     "output_type": "error",
     "traceback": [
      "\u001b[1;31m---------------------------------------------------------------------------\u001b[0m",
      "\u001b[1;31mFileNotFoundError\u001b[0m                         Traceback (most recent call last)",
      "\u001b[1;32m<ipython-input-47-162065d88847>\u001b[0m in \u001b[0;36m<module>\u001b[1;34m\u001b[0m\n\u001b[0;32m      1\u001b[0m \u001b[1;31m#always make sure to give right name and path of the file that need to be opened\u001b[0m\u001b[1;33m\u001b[0m\u001b[1;33m\u001b[0m\u001b[1;33m\u001b[0m\u001b[0m\n\u001b[1;32m----> 2\u001b[1;33m \u001b[0mfile\u001b[0m \u001b[1;33m=\u001b[0m \u001b[0mopen\u001b[0m\u001b[1;33m(\u001b[0m\u001b[1;34m'file.txt'\u001b[0m\u001b[1;33m,\u001b[0m\u001b[1;34m'r'\u001b[0m\u001b[1;33m)\u001b[0m\u001b[1;33m\u001b[0m\u001b[1;33m\u001b[0m\u001b[0m\n\u001b[0m\u001b[0;32m      3\u001b[0m \u001b[0mprint\u001b[0m\u001b[1;33m(\u001b[0m\u001b[0mfile\u001b[0m\u001b[1;33m)\u001b[0m\u001b[1;33m\u001b[0m\u001b[1;33m\u001b[0m\u001b[0m\n",
      "\u001b[1;31mFileNotFoundError\u001b[0m: [Errno 2] No such file or directory: 'file.txt'"
     ]
    }
   ],
   "source": [
    "#always make sure to give right name and path of the file that need to be opened\n",
    "file = open('file.txt','r')\n",
    "print(file)"
   ]
  },
  {
   "cell_type": "markdown",
   "metadata": {},
   "source": [
    "# Question 8\n",
    "#### Encryption is the process of hiding the meaning of a text by substituting letters in the message with other letters, according to some system. If the process is successful, no one but the intended recipient can understand the encrypted message. Cryptanalysis refers to attempts to undo the encryption, even if some details of the encryption are unknown (for example, if an encrypted message has been intercepted). The first step of cryptanalysis is often to build up a table of letter frequencies in the encrypted text. Assume that the string letters is already defined as 'abcdefghijklmnopqrstuvwxyz'. Write a function called frequencies() that takes a string as its only parameter, and returns a list of integers, showing the number of times each character appears in the text. Your function may ignore any characters that are not in letters.\n",
    "<blockquote>>>> frequencies('The quick red fox got bored and went home.')</blockquote>\n",
    "<blockquote>[1, 1, 1, 3, 5, 1, 1, 2, 1, 0, 1, 0, 1, 2, 4, 0, 1, 2, 0, 2, 1, 0, 1, 1, 0, 0]</blockquote>\n",
    "<blockquote>>>> frequencies('apple')</blockquote>"
   ]
  },
  {
   "cell_type": "code",
   "execution_count": 48,
   "metadata": {},
   "outputs": [],
   "source": [
    "#frequencies() is a fuction to return a list of integers, showing the number of times each character appears in the text\n",
    "def frequencies(statement):\n",
    "    \n",
    "    #final is a list which will display the list of integers \n",
    "    final = []   \n",
    "    \n",
    "    #'letter' stores the perdefined value\n",
    "    letter = 'abcdefghijklmnopqrstuvwxyz' \n",
    "    \n",
    "    #new is a list which store each character of 'letter' variable\n",
    "    new = list(letter) \n",
    "    \n",
    "    #val1 holds the length of variable 'letter'\n",
    "    val1 = len(new) \n",
    "    \n",
    "    #demo is a list which holds each letter of parameter send by the function\n",
    "    demo = list(statement.replace(\" \", \"\")) \n",
    "    \n",
    "    #val2 hold the length of variable demo\n",
    "    val2 = len(demo) \n",
    "    for x in range(0,val1): \n",
    "        \n",
    "        #count variable is to find the number of occurance of each letter\n",
    "        count = 0 \n",
    "        \n",
    "        #check if the value send by the funtion is in the list 'new', if true find count\n",
    "        if new[x] in demo:   \n",
    "            for y in range(0,val2):\n",
    "                if new[x] == demo[y]: \n",
    "                    count = count + 1 \n",
    "            final.append(count)\n",
    "            \n",
    "        #else append '0' to the 'final' list\n",
    "        else: \n",
    "            final.append(0)\n",
    "    print(final)"
   ]
  },
  {
   "cell_type": "code",
   "execution_count": 49,
   "metadata": {},
   "outputs": [
    {
     "name": "stdout",
     "output_type": "stream",
     "text": [
      "[1, 1, 1, 3, 5, 1, 1, 2, 1, 0, 1, 0, 1, 2, 4, 0, 1, 2, 0, 2, 1, 0, 1, 1, 0, 0]\n"
     ]
    }
   ],
   "source": [
    ">>> #frequencies() is a fuction to return a list of integers, showing the number of times each character appears in the text\n",
    ">>> #frequencies() pass string as parameter\n",
    ">>> frequencies('The quick red fox got bored and went home.')"
   ]
  },
  {
   "cell_type": "code",
   "execution_count": 50,
   "metadata": {},
   "outputs": [
    {
     "name": "stdout",
     "output_type": "stream",
     "text": [
      "[1, 0, 0, 0, 1, 0, 0, 0, 0, 0, 0, 1, 0, 0, 0, 2, 0, 0, 0, 0, 0, 0, 0, 0, 0, 0]\n"
     ]
    }
   ],
   "source": [
    ">>> #frequencies() is a fuction to return a list of integers, showing the number of times each character appears in the text\n",
    ">>> #frequencies() pass string as parameter\n",
    ">>> frequencies('apple')"
   ]
  },
  {
   "cell_type": "markdown",
   "metadata": {},
   "source": [
    "# Question 9\n",
    "#### The Sieve of Erastophenes is an algorithm -- known to ancient Greeks -- that finds all prime numbers up to a given number n. It does this by first creating a list L from 2 to n and an (initially empty) list primeL. The algorithm then takes the first number in list L (2) and appends it to list primeL, and then removes 2 and all its multiples (4,6,8,10,12, ...) from L. The algorithm then takes the new first number in L (3) and appends it to list primeL, and then removes from L 3 and all its remaining multiples (9,15,21,...). So, in every iteration, the first number of list L is appended to list primeL and then it and its multiples are removed from list L. The iterations stop when list L becomes empty. Write a function sieve() that takes as input a positive integer n, implements the above algorithm, and returns a list of all prime numbers up to n.\n",
    "<blockquote>>>> sieve(56)</blockquote>\n",
    "<blockquote>[2, 3, 5, 7, 11, 13, 17, 19, 23, 29, 31, 37, 41, 43, 47, 53]</blockquote>\n",
    "<blockquote>>>> sieve(368)</blockquote>\n",
    "<blockquote>[2, 3, 5, 7, 11, 13, 17, 19, 23, 29, 31, 37, 41, 43, 47, 53, 59, 61, 67, 71, 73, 79, 83, 89, 97, 101, 103, 107, 109, 113, 127, 131, 137, 139, 149, 151, 157, 163, 167, 173, 179, 181, 191, 193, 197, 199, 211, 223, 227, 229, 233, 239, 241, 251, 257, 263, 269, 271, 277, 281, 283, 293, 307, 311, 313, 317, 331, 337, 347, 349, 353, 359, 367]</blockquote>\n",
    "<blockquote>>>> sieve(32)</blockquote>\n",
    "<blockquote>[2, 3, 5, 7, 11, 13, 17, 19, 23, 29, 31]</blockquote>"
   ]
  },
  {
   "cell_type": "code",
   "execution_count": 52,
   "metadata": {},
   "outputs": [],
   "source": [
    "#function to find prime number upto n \n",
    "def sieve(n):\n",
    "    #L is a list which store values from 2 to n\n",
    "    L = []\n",
    "    \n",
    "    #loop to appand numbers from 2 to n\n",
    "    for y in range(2, n +1):\n",
    "        L.append(y)\n",
    "        \n",
    "    #m holds the length of list 'L'\n",
    "    m = len(L)\n",
    "    \n",
    "    #primeL is list which will display all the prime number till n\n",
    "    primeL = []\n",
    "    \n",
    "    #append first prime number to primeL\n",
    "    primeL.append(L[0])\n",
    "    \n",
    "    #loop to find the prime number\n",
    "    for x in range(0, m):\n",
    "        \n",
    "        #copyL is an empty list\n",
    "        copyL = []\n",
    "        u = 0\n",
    "        \n",
    "        #when length (m) is not equal to 1 find prime number\n",
    "        if m != 1:\n",
    "            \n",
    "            #loop to find multiples of prime number, which should be removed from list L\n",
    "            for z in range(0, m):\n",
    "                \n",
    "                #if not divisible by prime number(starting from 2) append that number to copyL\n",
    "                if L[z]%L[u] != 0:\n",
    "                    copyL.append(L[z])\n",
    "            \n",
    "            #now set L as copyL so that all multiple of prime numbers(starting from 2) is removed\n",
    "            L = copyL\n",
    "            \n",
    "            #change m to new L length\n",
    "            m = len(L)\n",
    "            \n",
    "        #when m == 1 break from the loop\n",
    "        else:\n",
    "            break\n",
    "            \n",
    "        #append first number of list L\n",
    "        primeL.append(L[u])\n",
    "    print(primeL)"
   ]
  },
  {
   "cell_type": "code",
   "execution_count": 53,
   "metadata": {},
   "outputs": [
    {
     "name": "stdout",
     "output_type": "stream",
     "text": [
      "[2, 3, 5, 7, 11, 13, 17, 19, 23, 29, 31]\n"
     ]
    }
   ],
   "source": [
    ">>> #sieve() find prime number upto n \n",
    ">>> #sieve pass n as the parameter\n",
    ">>> sieve(32)"
   ]
  },
  {
   "cell_type": "code",
   "execution_count": 54,
   "metadata": {},
   "outputs": [
    {
     "name": "stdout",
     "output_type": "stream",
     "text": [
      "[2, 3, 5, 7, 11, 13, 17, 19, 23, 29, 31, 37, 41, 43, 47, 53]\n"
     ]
    }
   ],
   "source": [
    ">>> #sieve() find prime number upto n \n",
    ">>> #sieve pass n as the parameter\n",
    ">>> sieve(56)"
   ]
  },
  {
   "cell_type": "code",
   "execution_count": 55,
   "metadata": {},
   "outputs": [
    {
     "name": "stdout",
     "output_type": "stream",
     "text": [
      "[2, 3, 5, 7, 11, 13, 17, 19, 23, 29, 31, 37, 41, 43, 47, 53, 59, 61, 67, 71, 73, 79, 83, 89, 97, 101, 103, 107, 109, 113, 127, 131, 137, 139, 149, 151, 157, 163, 167, 173, 179, 181, 191, 193, 197, 199, 211, 223, 227, 229, 233, 239, 241, 251, 257, 263, 269, 271, 277, 281, 283, 293, 307, 311, 313, 317, 331, 337, 347, 349, 353, 359, 367]\n"
     ]
    }
   ],
   "source": [
    ">>> #sieve() find prime number upto n \n",
    ">>> #sieve pass n as the parameter\n",
    ">>> sieve(368)"
   ]
  },
  {
   "cell_type": "markdown",
   "metadata": {},
   "source": [
    "# Question 10\n",
    "#### Implement function triangleArea(a,b,c) that takes as input the lengths of the 3 sides of a triangle and returns the area of the triangle. By Heron's formula, the area of a triangle with side lengths a, b, and c is √s(s - a)(s -b)(s -c), where s = (a+b+c)/2.\n",
    "<blockquote>>>> triangleArea(2,2,2)</blockquote>\n",
    "<blockquote>1.7320508075688772</blockquote>"
   ]
  },
  {
   "cell_type": "code",
   "execution_count": 56,
   "metadata": {},
   "outputs": [],
   "source": [
    "#math is a module of python used to carry out math operations\n",
    "import math\n",
    "\n",
    "#Function to find the area of triangel\n",
    "def triangleArea(a,b,c):\n",
    "    \n",
    "    s = (a+b+c)/2\n",
    "    \n",
    "    #math.sqrt find the square root of value given \n",
    "    area= math.sqrt(s*(s-a)*(s-b)*(s-c))\n",
    "    return area\n"
   ]
  },
  {
   "cell_type": "code",
   "execution_count": 57,
   "metadata": {},
   "outputs": [
    {
     "data": {
      "text/plain": [
       "1.7320508075688772"
      ]
     },
     "execution_count": 57,
     "metadata": {},
     "output_type": "execute_result"
    }
   ],
   "source": [
    ">>> #Function to find the area of triangel\n",
    ">>> #triangleArea() pass the length of 3 sides as parameter\n",
    ">>> triangleArea(2,2,2) "
   ]
  },
  {
   "cell_type": "code",
   "execution_count": null,
   "metadata": {},
   "outputs": [],
   "source": []
  }
 ],
 "metadata": {
  "kernelspec": {
   "display_name": "Python 3",
   "language": "python",
   "name": "python3"
  },
  "language_info": {
   "codemirror_mode": {
    "name": "ipython",
    "version": 3
   },
   "file_extension": ".py",
   "mimetype": "text/x-python",
   "name": "python",
   "nbconvert_exporter": "python",
   "pygments_lexer": "ipython3",
   "version": "3.8.3"
  }
 },
 "nbformat": 4,
 "nbformat_minor": 4
}
